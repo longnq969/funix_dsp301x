{
 "cells": [
  {
   "cell_type": "markdown",
   "id": "ffe90809",
   "metadata": {},
   "source": [
    "# Introduction"
   ]
  },
  {
   "cell_type": "markdown",
   "id": "336a4b1c",
   "metadata": {},
   "source": [
    "The intent of this project is to develop a system to detect facemask in real time based on SSD (SingleShotDetector) and MobileNetV2. Since the unprecedented COVID 19 global pandemic happened, governments worldwide stay under lock-downs to prevent virus transmission, and wearing a facemask when communicating in public space is one of the most effective ways to avoid becoming infected with the virus. Hence, there is a need to monitor people wearing masks and doing this task manually is overwhelming and not applicable due to the large number of people in public space. To solve the problem, Data Scientist and Machine Learning engineers have come up with several algorithms and techniques to build AI models to detect facemasks in images / videos automatically. "
   ]
  },
  {
   "cell_type": "markdown",
   "id": "676538ed",
   "metadata": {},
   "source": [
    "# Business Understanding"
   ]
  },
  {
   "cell_type": "markdown",
   "id": "969a6ec5",
   "metadata": {},
   "source": [
    "Outbreak in late December 2019, originating in a seafood market in Wuhan, Central China, the Corona virus was initially confirmed as a type of “strange pneumonia” or “unknown reason pneumonia”. After only 100 days of appearance, the acute respiratory infection caused by the Corona virus quickly affected the economic and social fields, the financial market wobbled, the global economy fell into a recession with a high inflation rate. Unemployment and poverty are unprecedented in history. Up to the time of this thesis, there have been 530M infected cases, and 6.3M deaths cases reported. The name “Corona” virus is derived from Latin, where “corona” means “crown” due to the shape of it. This virus has spikes on the outside, which interact with receptors on cells, in a similar way to keys and locks, thereby allowing the virus to get inside. \n",
    "The COVID-19 virus is spread mainly from person to person through respiratory droplets. Respiratory droplets are released into the air when people cough, sneeze, talk, shout or sing. These drops may land in the mouths or noses of people nearby, or they may inhale the droplets.\n",
    "Therefore facemask is a simple barrier that helps prevent droplets from your respiratory tract from reaching others. Studies show that masks that cover the nose and mouth help reduce the spread of droplets. So to prevent virus from spreading among the community, it's important to monitor facemask wearing in public spaces.\n"
   ]
  },
  {
   "cell_type": "markdown",
   "id": "3e069716",
   "metadata": {},
   "source": [
    "# Analytics Approach"
   ]
  },
  {
   "cell_type": "markdown",
   "id": "c46f0e24",
   "metadata": {},
   "source": [
    "Trong bài toán này:\n",
    "\n",
    "- Input is a image / frame from video\n",
    "- Results are faces extracted from image / frame with labels.\n",
    "- The classification model classify faces into labels (mask, no_mask, improperly)\n",
    "\n",
    "\n",
    "Phương pháp phân tích được sử dụng:\n",
    "\n",
    "- Deep Learning, and specifically, CNN is used here because of its efficient with computer vision tasks.\n",
    "- Face detector extracts faces from image / frame\n",
    "- Then face classification model is used to classify faces into labels."
   ]
  },
  {
   "cell_type": "code",
   "execution_count": null,
   "id": "9df140c6",
   "metadata": {},
   "outputs": [],
   "source": []
  },
  {
   "cell_type": "code",
   "execution_count": null,
   "id": "4fffc350",
   "metadata": {},
   "outputs": [],
   "source": []
  },
  {
   "cell_type": "code",
   "execution_count": null,
   "id": "60d98bca",
   "metadata": {},
   "outputs": [],
   "source": []
  },
  {
   "cell_type": "markdown",
   "id": "e72a43d5",
   "metadata": {},
   "source": [
    "# Data Requirement"
   ]
  },
  {
   "cell_type": "markdown",
   "id": "1132d247",
   "metadata": {},
   "source": [
    "We need to collect images of faces with 3 labels: mask, no_mask, improperly"
   ]
  },
  {
   "cell_type": "code",
   "execution_count": null,
   "id": "cc41cfb7",
   "metadata": {},
   "outputs": [],
   "source": []
  },
  {
   "cell_type": "code",
   "execution_count": null,
   "id": "7e3e160e",
   "metadata": {},
   "outputs": [],
   "source": []
  },
  {
   "cell_type": "markdown",
   "id": "b03f48ef",
   "metadata": {},
   "source": [
    "# Data Collection"
   ]
  },
  {
   "cell_type": "markdown",
   "id": "492e825f",
   "metadata": {},
   "source": [
    "Data is collected and combined from 3 datasets:\n",
    "- \n",
    "- \n",
    "- "
   ]
  },
  {
   "cell_type": "code",
   "execution_count": null,
   "id": "91c2e3f5",
   "metadata": {},
   "outputs": [],
   "source": []
  }
 ],
 "metadata": {
  "kernelspec": {
   "display_name": "Python 3 (ipykernel)",
   "language": "python",
   "name": "python3"
  },
  "language_info": {
   "codemirror_mode": {
    "name": "ipython",
    "version": 3
   },
   "file_extension": ".py",
   "mimetype": "text/x-python",
   "name": "python",
   "nbconvert_exporter": "python",
   "pygments_lexer": "ipython3",
   "version": "3.9.12"
  }
 },
 "nbformat": 4,
 "nbformat_minor": 5
}
